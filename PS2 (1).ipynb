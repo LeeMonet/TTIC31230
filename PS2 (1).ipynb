{
  "nbformat": 4,
  "nbformat_minor": 0,
  "metadata": {
    "anaconda-cloud": {},
    "kernelspec": {
      "name": "python3",
      "display_name": "Python 3"
    },
    "colab": {
      "name": "PS2.ipynb",
      "provenance": [],
      "collapsed_sections": []
    },
    "language_info": {
      "name": "python"
    },
    "accelerator": "GPU",
    "widgets": {
      "application/vnd.jupyter.widget-state+json": {
        "98c0c43d3f01479baed65328ae8c3626": {
          "model_module": "@jupyter-widgets/controls",
          "model_name": "HBoxModel",
          "model_module_version": "1.5.0",
          "state": {
            "_view_name": "HBoxView",
            "_dom_classes": [],
            "_model_name": "HBoxModel",
            "_view_module": "@jupyter-widgets/controls",
            "_model_module_version": "1.5.0",
            "_view_count": null,
            "_view_module_version": "1.5.0",
            "box_style": "",
            "layout": "IPY_MODEL_d097b0f31b434f2fb717039665d78919",
            "_model_module": "@jupyter-widgets/controls",
            "children": [
              "IPY_MODEL_4d8f8b4254a44e5882351852f0b9de6e",
              "IPY_MODEL_cb92775727204e40996927c89c133420",
              "IPY_MODEL_c5802d6fd2e5413d86b1577e1532287e"
            ]
          }
        },
        "d097b0f31b434f2fb717039665d78919": {
          "model_module": "@jupyter-widgets/base",
          "model_name": "LayoutModel",
          "model_module_version": "1.2.0",
          "state": {
            "_view_name": "LayoutView",
            "grid_template_rows": null,
            "right": null,
            "justify_content": null,
            "_view_module": "@jupyter-widgets/base",
            "overflow": null,
            "_model_module_version": "1.2.0",
            "_view_count": null,
            "flex_flow": null,
            "width": null,
            "min_width": null,
            "border": null,
            "align_items": null,
            "bottom": null,
            "_model_module": "@jupyter-widgets/base",
            "top": null,
            "grid_column": null,
            "overflow_y": null,
            "overflow_x": null,
            "grid_auto_flow": null,
            "grid_area": null,
            "grid_template_columns": null,
            "flex": null,
            "_model_name": "LayoutModel",
            "justify_items": null,
            "grid_row": null,
            "max_height": null,
            "align_content": null,
            "visibility": null,
            "align_self": null,
            "height": null,
            "min_height": null,
            "padding": null,
            "grid_auto_rows": null,
            "grid_gap": null,
            "max_width": null,
            "order": null,
            "_view_module_version": "1.2.0",
            "grid_template_areas": null,
            "object_position": null,
            "object_fit": null,
            "grid_auto_columns": null,
            "margin": null,
            "display": null,
            "left": null
          }
        },
        "4d8f8b4254a44e5882351852f0b9de6e": {
          "model_module": "@jupyter-widgets/controls",
          "model_name": "HTMLModel",
          "model_module_version": "1.5.0",
          "state": {
            "_view_name": "HTMLView",
            "style": "IPY_MODEL_574add99c2b740b48d14352c3411a8c5",
            "_dom_classes": [],
            "description": "",
            "_model_name": "HTMLModel",
            "placeholder": "​",
            "_view_module": "@jupyter-widgets/controls",
            "_model_module_version": "1.5.0",
            "value": "",
            "_view_count": null,
            "_view_module_version": "1.5.0",
            "description_tooltip": null,
            "_model_module": "@jupyter-widgets/controls",
            "layout": "IPY_MODEL_5c8d3fe12de34239bb618cdca04d91ab"
          }
        },
        "cb92775727204e40996927c89c133420": {
          "model_module": "@jupyter-widgets/controls",
          "model_name": "FloatProgressModel",
          "model_module_version": "1.5.0",
          "state": {
            "_view_name": "ProgressView",
            "style": "IPY_MODEL_7d41f20b4bb64339a34e0f9128575c34",
            "_dom_classes": [],
            "description": "",
            "_model_name": "FloatProgressModel",
            "bar_style": "success",
            "max": 9912422,
            "_view_module": "@jupyter-widgets/controls",
            "_model_module_version": "1.5.0",
            "value": 9912422,
            "_view_count": null,
            "_view_module_version": "1.5.0",
            "orientation": "horizontal",
            "min": 0,
            "description_tooltip": null,
            "_model_module": "@jupyter-widgets/controls",
            "layout": "IPY_MODEL_fba86d883e954796b5d60953d0ba0228"
          }
        },
        "c5802d6fd2e5413d86b1577e1532287e": {
          "model_module": "@jupyter-widgets/controls",
          "model_name": "HTMLModel",
          "model_module_version": "1.5.0",
          "state": {
            "_view_name": "HTMLView",
            "style": "IPY_MODEL_4c051e750d704af0bcd7e4255f3cedc6",
            "_dom_classes": [],
            "description": "",
            "_model_name": "HTMLModel",
            "placeholder": "​",
            "_view_module": "@jupyter-widgets/controls",
            "_model_module_version": "1.5.0",
            "value": " 9913344/? [00:00&lt;00:00, 29056866.45it/s]",
            "_view_count": null,
            "_view_module_version": "1.5.0",
            "description_tooltip": null,
            "_model_module": "@jupyter-widgets/controls",
            "layout": "IPY_MODEL_85f10061e90e46408d4785d122f920fb"
          }
        },
        "574add99c2b740b48d14352c3411a8c5": {
          "model_module": "@jupyter-widgets/controls",
          "model_name": "DescriptionStyleModel",
          "model_module_version": "1.5.0",
          "state": {
            "_view_name": "StyleView",
            "_model_name": "DescriptionStyleModel",
            "description_width": "",
            "_view_module": "@jupyter-widgets/base",
            "_model_module_version": "1.5.0",
            "_view_count": null,
            "_view_module_version": "1.2.0",
            "_model_module": "@jupyter-widgets/controls"
          }
        },
        "5c8d3fe12de34239bb618cdca04d91ab": {
          "model_module": "@jupyter-widgets/base",
          "model_name": "LayoutModel",
          "model_module_version": "1.2.0",
          "state": {
            "_view_name": "LayoutView",
            "grid_template_rows": null,
            "right": null,
            "justify_content": null,
            "_view_module": "@jupyter-widgets/base",
            "overflow": null,
            "_model_module_version": "1.2.0",
            "_view_count": null,
            "flex_flow": null,
            "width": null,
            "min_width": null,
            "border": null,
            "align_items": null,
            "bottom": null,
            "_model_module": "@jupyter-widgets/base",
            "top": null,
            "grid_column": null,
            "overflow_y": null,
            "overflow_x": null,
            "grid_auto_flow": null,
            "grid_area": null,
            "grid_template_columns": null,
            "flex": null,
            "_model_name": "LayoutModel",
            "justify_items": null,
            "grid_row": null,
            "max_height": null,
            "align_content": null,
            "visibility": null,
            "align_self": null,
            "height": null,
            "min_height": null,
            "padding": null,
            "grid_auto_rows": null,
            "grid_gap": null,
            "max_width": null,
            "order": null,
            "_view_module_version": "1.2.0",
            "grid_template_areas": null,
            "object_position": null,
            "object_fit": null,
            "grid_auto_columns": null,
            "margin": null,
            "display": null,
            "left": null
          }
        },
        "7d41f20b4bb64339a34e0f9128575c34": {
          "model_module": "@jupyter-widgets/controls",
          "model_name": "ProgressStyleModel",
          "model_module_version": "1.5.0",
          "state": {
            "_view_name": "StyleView",
            "_model_name": "ProgressStyleModel",
            "description_width": "",
            "_view_module": "@jupyter-widgets/base",
            "_model_module_version": "1.5.0",
            "_view_count": null,
            "_view_module_version": "1.2.0",
            "bar_color": null,
            "_model_module": "@jupyter-widgets/controls"
          }
        },
        "fba86d883e954796b5d60953d0ba0228": {
          "model_module": "@jupyter-widgets/base",
          "model_name": "LayoutModel",
          "model_module_version": "1.2.0",
          "state": {
            "_view_name": "LayoutView",
            "grid_template_rows": null,
            "right": null,
            "justify_content": null,
            "_view_module": "@jupyter-widgets/base",
            "overflow": null,
            "_model_module_version": "1.2.0",
            "_view_count": null,
            "flex_flow": null,
            "width": null,
            "min_width": null,
            "border": null,
            "align_items": null,
            "bottom": null,
            "_model_module": "@jupyter-widgets/base",
            "top": null,
            "grid_column": null,
            "overflow_y": null,
            "overflow_x": null,
            "grid_auto_flow": null,
            "grid_area": null,
            "grid_template_columns": null,
            "flex": null,
            "_model_name": "LayoutModel",
            "justify_items": null,
            "grid_row": null,
            "max_height": null,
            "align_content": null,
            "visibility": null,
            "align_self": null,
            "height": null,
            "min_height": null,
            "padding": null,
            "grid_auto_rows": null,
            "grid_gap": null,
            "max_width": null,
            "order": null,
            "_view_module_version": "1.2.0",
            "grid_template_areas": null,
            "object_position": null,
            "object_fit": null,
            "grid_auto_columns": null,
            "margin": null,
            "display": null,
            "left": null
          }
        },
        "4c051e750d704af0bcd7e4255f3cedc6": {
          "model_module": "@jupyter-widgets/controls",
          "model_name": "DescriptionStyleModel",
          "model_module_version": "1.5.0",
          "state": {
            "_view_name": "StyleView",
            "_model_name": "DescriptionStyleModel",
            "description_width": "",
            "_view_module": "@jupyter-widgets/base",
            "_model_module_version": "1.5.0",
            "_view_count": null,
            "_view_module_version": "1.2.0",
            "_model_module": "@jupyter-widgets/controls"
          }
        },
        "85f10061e90e46408d4785d122f920fb": {
          "model_module": "@jupyter-widgets/base",
          "model_name": "LayoutModel",
          "model_module_version": "1.2.0",
          "state": {
            "_view_name": "LayoutView",
            "grid_template_rows": null,
            "right": null,
            "justify_content": null,
            "_view_module": "@jupyter-widgets/base",
            "overflow": null,
            "_model_module_version": "1.2.0",
            "_view_count": null,
            "flex_flow": null,
            "width": null,
            "min_width": null,
            "border": null,
            "align_items": null,
            "bottom": null,
            "_model_module": "@jupyter-widgets/base",
            "top": null,
            "grid_column": null,
            "overflow_y": null,
            "overflow_x": null,
            "grid_auto_flow": null,
            "grid_area": null,
            "grid_template_columns": null,
            "flex": null,
            "_model_name": "LayoutModel",
            "justify_items": null,
            "grid_row": null,
            "max_height": null,
            "align_content": null,
            "visibility": null,
            "align_self": null,
            "height": null,
            "min_height": null,
            "padding": null,
            "grid_auto_rows": null,
            "grid_gap": null,
            "max_width": null,
            "order": null,
            "_view_module_version": "1.2.0",
            "grid_template_areas": null,
            "object_position": null,
            "object_fit": null,
            "grid_auto_columns": null,
            "margin": null,
            "display": null,
            "left": null
          }
        },
        "77c7ad56cdb040e5b1245b9dc34e1f1d": {
          "model_module": "@jupyter-widgets/controls",
          "model_name": "HBoxModel",
          "model_module_version": "1.5.0",
          "state": {
            "_view_name": "HBoxView",
            "_dom_classes": [],
            "_model_name": "HBoxModel",
            "_view_module": "@jupyter-widgets/controls",
            "_model_module_version": "1.5.0",
            "_view_count": null,
            "_view_module_version": "1.5.0",
            "box_style": "",
            "layout": "IPY_MODEL_cb8b4538fceb413886beefee4f44a81b",
            "_model_module": "@jupyter-widgets/controls",
            "children": [
              "IPY_MODEL_faad149b32e24c7fa3b5b43b81d8e543",
              "IPY_MODEL_9bef8a6b08214b8ca9da36db63ba13f7",
              "IPY_MODEL_3f5c761ec43b4a91b3064393e6abf3d0"
            ]
          }
        },
        "cb8b4538fceb413886beefee4f44a81b": {
          "model_module": "@jupyter-widgets/base",
          "model_name": "LayoutModel",
          "model_module_version": "1.2.0",
          "state": {
            "_view_name": "LayoutView",
            "grid_template_rows": null,
            "right": null,
            "justify_content": null,
            "_view_module": "@jupyter-widgets/base",
            "overflow": null,
            "_model_module_version": "1.2.0",
            "_view_count": null,
            "flex_flow": null,
            "width": null,
            "min_width": null,
            "border": null,
            "align_items": null,
            "bottom": null,
            "_model_module": "@jupyter-widgets/base",
            "top": null,
            "grid_column": null,
            "overflow_y": null,
            "overflow_x": null,
            "grid_auto_flow": null,
            "grid_area": null,
            "grid_template_columns": null,
            "flex": null,
            "_model_name": "LayoutModel",
            "justify_items": null,
            "grid_row": null,
            "max_height": null,
            "align_content": null,
            "visibility": null,
            "align_self": null,
            "height": null,
            "min_height": null,
            "padding": null,
            "grid_auto_rows": null,
            "grid_gap": null,
            "max_width": null,
            "order": null,
            "_view_module_version": "1.2.0",
            "grid_template_areas": null,
            "object_position": null,
            "object_fit": null,
            "grid_auto_columns": null,
            "margin": null,
            "display": null,
            "left": null
          }
        },
        "faad149b32e24c7fa3b5b43b81d8e543": {
          "model_module": "@jupyter-widgets/controls",
          "model_name": "HTMLModel",
          "model_module_version": "1.5.0",
          "state": {
            "_view_name": "HTMLView",
            "style": "IPY_MODEL_eb0521d881b84b119fae92ce5f44d439",
            "_dom_classes": [],
            "description": "",
            "_model_name": "HTMLModel",
            "placeholder": "​",
            "_view_module": "@jupyter-widgets/controls",
            "_model_module_version": "1.5.0",
            "value": "",
            "_view_count": null,
            "_view_module_version": "1.5.0",
            "description_tooltip": null,
            "_model_module": "@jupyter-widgets/controls",
            "layout": "IPY_MODEL_0e88a56126ee4672bf21639f7fd45802"
          }
        },
        "9bef8a6b08214b8ca9da36db63ba13f7": {
          "model_module": "@jupyter-widgets/controls",
          "model_name": "FloatProgressModel",
          "model_module_version": "1.5.0",
          "state": {
            "_view_name": "ProgressView",
            "style": "IPY_MODEL_0e43e4e15fc046919edb5e64bfee6cc9",
            "_dom_classes": [],
            "description": "",
            "_model_name": "FloatProgressModel",
            "bar_style": "success",
            "max": 28881,
            "_view_module": "@jupyter-widgets/controls",
            "_model_module_version": "1.5.0",
            "value": 28881,
            "_view_count": null,
            "_view_module_version": "1.5.0",
            "orientation": "horizontal",
            "min": 0,
            "description_tooltip": null,
            "_model_module": "@jupyter-widgets/controls",
            "layout": "IPY_MODEL_536dc07232244da09cbde347307df498"
          }
        },
        "3f5c761ec43b4a91b3064393e6abf3d0": {
          "model_module": "@jupyter-widgets/controls",
          "model_name": "HTMLModel",
          "model_module_version": "1.5.0",
          "state": {
            "_view_name": "HTMLView",
            "style": "IPY_MODEL_64ca9ea4b5ba4ace932bf974b73941e9",
            "_dom_classes": [],
            "description": "",
            "_model_name": "HTMLModel",
            "placeholder": "​",
            "_view_module": "@jupyter-widgets/controls",
            "_model_module_version": "1.5.0",
            "value": " 29696/? [00:00&lt;00:00, 776637.72it/s]",
            "_view_count": null,
            "_view_module_version": "1.5.0",
            "description_tooltip": null,
            "_model_module": "@jupyter-widgets/controls",
            "layout": "IPY_MODEL_80b9ec69334a4a988fa1958c707af985"
          }
        },
        "eb0521d881b84b119fae92ce5f44d439": {
          "model_module": "@jupyter-widgets/controls",
          "model_name": "DescriptionStyleModel",
          "model_module_version": "1.5.0",
          "state": {
            "_view_name": "StyleView",
            "_model_name": "DescriptionStyleModel",
            "description_width": "",
            "_view_module": "@jupyter-widgets/base",
            "_model_module_version": "1.5.0",
            "_view_count": null,
            "_view_module_version": "1.2.0",
            "_model_module": "@jupyter-widgets/controls"
          }
        },
        "0e88a56126ee4672bf21639f7fd45802": {
          "model_module": "@jupyter-widgets/base",
          "model_name": "LayoutModel",
          "model_module_version": "1.2.0",
          "state": {
            "_view_name": "LayoutView",
            "grid_template_rows": null,
            "right": null,
            "justify_content": null,
            "_view_module": "@jupyter-widgets/base",
            "overflow": null,
            "_model_module_version": "1.2.0",
            "_view_count": null,
            "flex_flow": null,
            "width": null,
            "min_width": null,
            "border": null,
            "align_items": null,
            "bottom": null,
            "_model_module": "@jupyter-widgets/base",
            "top": null,
            "grid_column": null,
            "overflow_y": null,
            "overflow_x": null,
            "grid_auto_flow": null,
            "grid_area": null,
            "grid_template_columns": null,
            "flex": null,
            "_model_name": "LayoutModel",
            "justify_items": null,
            "grid_row": null,
            "max_height": null,
            "align_content": null,
            "visibility": null,
            "align_self": null,
            "height": null,
            "min_height": null,
            "padding": null,
            "grid_auto_rows": null,
            "grid_gap": null,
            "max_width": null,
            "order": null,
            "_view_module_version": "1.2.0",
            "grid_template_areas": null,
            "object_position": null,
            "object_fit": null,
            "grid_auto_columns": null,
            "margin": null,
            "display": null,
            "left": null
          }
        },
        "0e43e4e15fc046919edb5e64bfee6cc9": {
          "model_module": "@jupyter-widgets/controls",
          "model_name": "ProgressStyleModel",
          "model_module_version": "1.5.0",
          "state": {
            "_view_name": "StyleView",
            "_model_name": "ProgressStyleModel",
            "description_width": "",
            "_view_module": "@jupyter-widgets/base",
            "_model_module_version": "1.5.0",
            "_view_count": null,
            "_view_module_version": "1.2.0",
            "bar_color": null,
            "_model_module": "@jupyter-widgets/controls"
          }
        },
        "536dc07232244da09cbde347307df498": {
          "model_module": "@jupyter-widgets/base",
          "model_name": "LayoutModel",
          "model_module_version": "1.2.0",
          "state": {
            "_view_name": "LayoutView",
            "grid_template_rows": null,
            "right": null,
            "justify_content": null,
            "_view_module": "@jupyter-widgets/base",
            "overflow": null,
            "_model_module_version": "1.2.0",
            "_view_count": null,
            "flex_flow": null,
            "width": null,
            "min_width": null,
            "border": null,
            "align_items": null,
            "bottom": null,
            "_model_module": "@jupyter-widgets/base",
            "top": null,
            "grid_column": null,
            "overflow_y": null,
            "overflow_x": null,
            "grid_auto_flow": null,
            "grid_area": null,
            "grid_template_columns": null,
            "flex": null,
            "_model_name": "LayoutModel",
            "justify_items": null,
            "grid_row": null,
            "max_height": null,
            "align_content": null,
            "visibility": null,
            "align_self": null,
            "height": null,
            "min_height": null,
            "padding": null,
            "grid_auto_rows": null,
            "grid_gap": null,
            "max_width": null,
            "order": null,
            "_view_module_version": "1.2.0",
            "grid_template_areas": null,
            "object_position": null,
            "object_fit": null,
            "grid_auto_columns": null,
            "margin": null,
            "display": null,
            "left": null
          }
        },
        "64ca9ea4b5ba4ace932bf974b73941e9": {
          "model_module": "@jupyter-widgets/controls",
          "model_name": "DescriptionStyleModel",
          "model_module_version": "1.5.0",
          "state": {
            "_view_name": "StyleView",
            "_model_name": "DescriptionStyleModel",
            "description_width": "",
            "_view_module": "@jupyter-widgets/base",
            "_model_module_version": "1.5.0",
            "_view_count": null,
            "_view_module_version": "1.2.0",
            "_model_module": "@jupyter-widgets/controls"
          }
        },
        "80b9ec69334a4a988fa1958c707af985": {
          "model_module": "@jupyter-widgets/base",
          "model_name": "LayoutModel",
          "model_module_version": "1.2.0",
          "state": {
            "_view_name": "LayoutView",
            "grid_template_rows": null,
            "right": null,
            "justify_content": null,
            "_view_module": "@jupyter-widgets/base",
            "overflow": null,
            "_model_module_version": "1.2.0",
            "_view_count": null,
            "flex_flow": null,
            "width": null,
            "min_width": null,
            "border": null,
            "align_items": null,
            "bottom": null,
            "_model_module": "@jupyter-widgets/base",
            "top": null,
            "grid_column": null,
            "overflow_y": null,
            "overflow_x": null,
            "grid_auto_flow": null,
            "grid_area": null,
            "grid_template_columns": null,
            "flex": null,
            "_model_name": "LayoutModel",
            "justify_items": null,
            "grid_row": null,
            "max_height": null,
            "align_content": null,
            "visibility": null,
            "align_self": null,
            "height": null,
            "min_height": null,
            "padding": null,
            "grid_auto_rows": null,
            "grid_gap": null,
            "max_width": null,
            "order": null,
            "_view_module_version": "1.2.0",
            "grid_template_areas": null,
            "object_position": null,
            "object_fit": null,
            "grid_auto_columns": null,
            "margin": null,
            "display": null,
            "left": null
          }
        },
        "d618b13c781245e796a55b2b86ff07d5": {
          "model_module": "@jupyter-widgets/controls",
          "model_name": "HBoxModel",
          "model_module_version": "1.5.0",
          "state": {
            "_view_name": "HBoxView",
            "_dom_classes": [],
            "_model_name": "HBoxModel",
            "_view_module": "@jupyter-widgets/controls",
            "_model_module_version": "1.5.0",
            "_view_count": null,
            "_view_module_version": "1.5.0",
            "box_style": "",
            "layout": "IPY_MODEL_5b3220485d884e3d9ee211513f29f5cc",
            "_model_module": "@jupyter-widgets/controls",
            "children": [
              "IPY_MODEL_6065ecec7c0d45499d80b8eec1f402b0",
              "IPY_MODEL_66a796732257428ba776980580c98cee",
              "IPY_MODEL_fba45f64c6464481916d78e3e2f47c6b"
            ]
          }
        },
        "5b3220485d884e3d9ee211513f29f5cc": {
          "model_module": "@jupyter-widgets/base",
          "model_name": "LayoutModel",
          "model_module_version": "1.2.0",
          "state": {
            "_view_name": "LayoutView",
            "grid_template_rows": null,
            "right": null,
            "justify_content": null,
            "_view_module": "@jupyter-widgets/base",
            "overflow": null,
            "_model_module_version": "1.2.0",
            "_view_count": null,
            "flex_flow": null,
            "width": null,
            "min_width": null,
            "border": null,
            "align_items": null,
            "bottom": null,
            "_model_module": "@jupyter-widgets/base",
            "top": null,
            "grid_column": null,
            "overflow_y": null,
            "overflow_x": null,
            "grid_auto_flow": null,
            "grid_area": null,
            "grid_template_columns": null,
            "flex": null,
            "_model_name": "LayoutModel",
            "justify_items": null,
            "grid_row": null,
            "max_height": null,
            "align_content": null,
            "visibility": null,
            "align_self": null,
            "height": null,
            "min_height": null,
            "padding": null,
            "grid_auto_rows": null,
            "grid_gap": null,
            "max_width": null,
            "order": null,
            "_view_module_version": "1.2.0",
            "grid_template_areas": null,
            "object_position": null,
            "object_fit": null,
            "grid_auto_columns": null,
            "margin": null,
            "display": null,
            "left": null
          }
        },
        "6065ecec7c0d45499d80b8eec1f402b0": {
          "model_module": "@jupyter-widgets/controls",
          "model_name": "HTMLModel",
          "model_module_version": "1.5.0",
          "state": {
            "_view_name": "HTMLView",
            "style": "IPY_MODEL_efab0595702942b09b18ef217aad9556",
            "_dom_classes": [],
            "description": "",
            "_model_name": "HTMLModel",
            "placeholder": "​",
            "_view_module": "@jupyter-widgets/controls",
            "_model_module_version": "1.5.0",
            "value": "",
            "_view_count": null,
            "_view_module_version": "1.5.0",
            "description_tooltip": null,
            "_model_module": "@jupyter-widgets/controls",
            "layout": "IPY_MODEL_863a64da213e4885b7f5f128453e6c22"
          }
        },
        "66a796732257428ba776980580c98cee": {
          "model_module": "@jupyter-widgets/controls",
          "model_name": "FloatProgressModel",
          "model_module_version": "1.5.0",
          "state": {
            "_view_name": "ProgressView",
            "style": "IPY_MODEL_749925bfd4ce4052918b482da1b7da45",
            "_dom_classes": [],
            "description": "",
            "_model_name": "FloatProgressModel",
            "bar_style": "success",
            "max": 1648877,
            "_view_module": "@jupyter-widgets/controls",
            "_model_module_version": "1.5.0",
            "value": 1648877,
            "_view_count": null,
            "_view_module_version": "1.5.0",
            "orientation": "horizontal",
            "min": 0,
            "description_tooltip": null,
            "_model_module": "@jupyter-widgets/controls",
            "layout": "IPY_MODEL_99fb70461a57449f937e704238f13623"
          }
        },
        "fba45f64c6464481916d78e3e2f47c6b": {
          "model_module": "@jupyter-widgets/controls",
          "model_name": "HTMLModel",
          "model_module_version": "1.5.0",
          "state": {
            "_view_name": "HTMLView",
            "style": "IPY_MODEL_db0aab35271e4f46bebb1ee14ae0f6ae",
            "_dom_classes": [],
            "description": "",
            "_model_name": "HTMLModel",
            "placeholder": "​",
            "_view_module": "@jupyter-widgets/controls",
            "_model_module_version": "1.5.0",
            "value": " 1649664/? [00:00&lt;00:00, 4536636.64it/s]",
            "_view_count": null,
            "_view_module_version": "1.5.0",
            "description_tooltip": null,
            "_model_module": "@jupyter-widgets/controls",
            "layout": "IPY_MODEL_b0e6128e66d54302a1b29cd786ad41c6"
          }
        },
        "efab0595702942b09b18ef217aad9556": {
          "model_module": "@jupyter-widgets/controls",
          "model_name": "DescriptionStyleModel",
          "model_module_version": "1.5.0",
          "state": {
            "_view_name": "StyleView",
            "_model_name": "DescriptionStyleModel",
            "description_width": "",
            "_view_module": "@jupyter-widgets/base",
            "_model_module_version": "1.5.0",
            "_view_count": null,
            "_view_module_version": "1.2.0",
            "_model_module": "@jupyter-widgets/controls"
          }
        },
        "863a64da213e4885b7f5f128453e6c22": {
          "model_module": "@jupyter-widgets/base",
          "model_name": "LayoutModel",
          "model_module_version": "1.2.0",
          "state": {
            "_view_name": "LayoutView",
            "grid_template_rows": null,
            "right": null,
            "justify_content": null,
            "_view_module": "@jupyter-widgets/base",
            "overflow": null,
            "_model_module_version": "1.2.0",
            "_view_count": null,
            "flex_flow": null,
            "width": null,
            "min_width": null,
            "border": null,
            "align_items": null,
            "bottom": null,
            "_model_module": "@jupyter-widgets/base",
            "top": null,
            "grid_column": null,
            "overflow_y": null,
            "overflow_x": null,
            "grid_auto_flow": null,
            "grid_area": null,
            "grid_template_columns": null,
            "flex": null,
            "_model_name": "LayoutModel",
            "justify_items": null,
            "grid_row": null,
            "max_height": null,
            "align_content": null,
            "visibility": null,
            "align_self": null,
            "height": null,
            "min_height": null,
            "padding": null,
            "grid_auto_rows": null,
            "grid_gap": null,
            "max_width": null,
            "order": null,
            "_view_module_version": "1.2.0",
            "grid_template_areas": null,
            "object_position": null,
            "object_fit": null,
            "grid_auto_columns": null,
            "margin": null,
            "display": null,
            "left": null
          }
        },
        "749925bfd4ce4052918b482da1b7da45": {
          "model_module": "@jupyter-widgets/controls",
          "model_name": "ProgressStyleModel",
          "model_module_version": "1.5.0",
          "state": {
            "_view_name": "StyleView",
            "_model_name": "ProgressStyleModel",
            "description_width": "",
            "_view_module": "@jupyter-widgets/base",
            "_model_module_version": "1.5.0",
            "_view_count": null,
            "_view_module_version": "1.2.0",
            "bar_color": null,
            "_model_module": "@jupyter-widgets/controls"
          }
        },
        "99fb70461a57449f937e704238f13623": {
          "model_module": "@jupyter-widgets/base",
          "model_name": "LayoutModel",
          "model_module_version": "1.2.0",
          "state": {
            "_view_name": "LayoutView",
            "grid_template_rows": null,
            "right": null,
            "justify_content": null,
            "_view_module": "@jupyter-widgets/base",
            "overflow": null,
            "_model_module_version": "1.2.0",
            "_view_count": null,
            "flex_flow": null,
            "width": null,
            "min_width": null,
            "border": null,
            "align_items": null,
            "bottom": null,
            "_model_module": "@jupyter-widgets/base",
            "top": null,
            "grid_column": null,
            "overflow_y": null,
            "overflow_x": null,
            "grid_auto_flow": null,
            "grid_area": null,
            "grid_template_columns": null,
            "flex": null,
            "_model_name": "LayoutModel",
            "justify_items": null,
            "grid_row": null,
            "max_height": null,
            "align_content": null,
            "visibility": null,
            "align_self": null,
            "height": null,
            "min_height": null,
            "padding": null,
            "grid_auto_rows": null,
            "grid_gap": null,
            "max_width": null,
            "order": null,
            "_view_module_version": "1.2.0",
            "grid_template_areas": null,
            "object_position": null,
            "object_fit": null,
            "grid_auto_columns": null,
            "margin": null,
            "display": null,
            "left": null
          }
        },
        "db0aab35271e4f46bebb1ee14ae0f6ae": {
          "model_module": "@jupyter-widgets/controls",
          "model_name": "DescriptionStyleModel",
          "model_module_version": "1.5.0",
          "state": {
            "_view_name": "StyleView",
            "_model_name": "DescriptionStyleModel",
            "description_width": "",
            "_view_module": "@jupyter-widgets/base",
            "_model_module_version": "1.5.0",
            "_view_count": null,
            "_view_module_version": "1.2.0",
            "_model_module": "@jupyter-widgets/controls"
          }
        },
        "b0e6128e66d54302a1b29cd786ad41c6": {
          "model_module": "@jupyter-widgets/base",
          "model_name": "LayoutModel",
          "model_module_version": "1.2.0",
          "state": {
            "_view_name": "LayoutView",
            "grid_template_rows": null,
            "right": null,
            "justify_content": null,
            "_view_module": "@jupyter-widgets/base",
            "overflow": null,
            "_model_module_version": "1.2.0",
            "_view_count": null,
            "flex_flow": null,
            "width": null,
            "min_width": null,
            "border": null,
            "align_items": null,
            "bottom": null,
            "_model_module": "@jupyter-widgets/base",
            "top": null,
            "grid_column": null,
            "overflow_y": null,
            "overflow_x": null,
            "grid_auto_flow": null,
            "grid_area": null,
            "grid_template_columns": null,
            "flex": null,
            "_model_name": "LayoutModel",
            "justify_items": null,
            "grid_row": null,
            "max_height": null,
            "align_content": null,
            "visibility": null,
            "align_self": null,
            "height": null,
            "min_height": null,
            "padding": null,
            "grid_auto_rows": null,
            "grid_gap": null,
            "max_width": null,
            "order": null,
            "_view_module_version": "1.2.0",
            "grid_template_areas": null,
            "object_position": null,
            "object_fit": null,
            "grid_auto_columns": null,
            "margin": null,
            "display": null,
            "left": null
          }
        },
        "c8b579a637cc4028ae23b09e4c74782a": {
          "model_module": "@jupyter-widgets/controls",
          "model_name": "HBoxModel",
          "model_module_version": "1.5.0",
          "state": {
            "_view_name": "HBoxView",
            "_dom_classes": [],
            "_model_name": "HBoxModel",
            "_view_module": "@jupyter-widgets/controls",
            "_model_module_version": "1.5.0",
            "_view_count": null,
            "_view_module_version": "1.5.0",
            "box_style": "",
            "layout": "IPY_MODEL_86a56f172efe41d28b9a33c52864f057",
            "_model_module": "@jupyter-widgets/controls",
            "children": [
              "IPY_MODEL_8e4a29e783de41ef9caae9715bfcf328",
              "IPY_MODEL_781dff9b13e84e968a678ef87afb95f7",
              "IPY_MODEL_7502fd67abc1482f823699939af50885"
            ]
          }
        },
        "86a56f172efe41d28b9a33c52864f057": {
          "model_module": "@jupyter-widgets/base",
          "model_name": "LayoutModel",
          "model_module_version": "1.2.0",
          "state": {
            "_view_name": "LayoutView",
            "grid_template_rows": null,
            "right": null,
            "justify_content": null,
            "_view_module": "@jupyter-widgets/base",
            "overflow": null,
            "_model_module_version": "1.2.0",
            "_view_count": null,
            "flex_flow": null,
            "width": null,
            "min_width": null,
            "border": null,
            "align_items": null,
            "bottom": null,
            "_model_module": "@jupyter-widgets/base",
            "top": null,
            "grid_column": null,
            "overflow_y": null,
            "overflow_x": null,
            "grid_auto_flow": null,
            "grid_area": null,
            "grid_template_columns": null,
            "flex": null,
            "_model_name": "LayoutModel",
            "justify_items": null,
            "grid_row": null,
            "max_height": null,
            "align_content": null,
            "visibility": null,
            "align_self": null,
            "height": null,
            "min_height": null,
            "padding": null,
            "grid_auto_rows": null,
            "grid_gap": null,
            "max_width": null,
            "order": null,
            "_view_module_version": "1.2.0",
            "grid_template_areas": null,
            "object_position": null,
            "object_fit": null,
            "grid_auto_columns": null,
            "margin": null,
            "display": null,
            "left": null
          }
        },
        "8e4a29e783de41ef9caae9715bfcf328": {
          "model_module": "@jupyter-widgets/controls",
          "model_name": "HTMLModel",
          "model_module_version": "1.5.0",
          "state": {
            "_view_name": "HTMLView",
            "style": "IPY_MODEL_91e94925c2c94d5d8bca5febcbd90eb0",
            "_dom_classes": [],
            "description": "",
            "_model_name": "HTMLModel",
            "placeholder": "​",
            "_view_module": "@jupyter-widgets/controls",
            "_model_module_version": "1.5.0",
            "value": "",
            "_view_count": null,
            "_view_module_version": "1.5.0",
            "description_tooltip": null,
            "_model_module": "@jupyter-widgets/controls",
            "layout": "IPY_MODEL_18f4375865f9479ba68271614f96b06f"
          }
        },
        "781dff9b13e84e968a678ef87afb95f7": {
          "model_module": "@jupyter-widgets/controls",
          "model_name": "FloatProgressModel",
          "model_module_version": "1.5.0",
          "state": {
            "_view_name": "ProgressView",
            "style": "IPY_MODEL_90e98b00b63c40929942b80f61c56a2c",
            "_dom_classes": [],
            "description": "",
            "_model_name": "FloatProgressModel",
            "bar_style": "success",
            "max": 4542,
            "_view_module": "@jupyter-widgets/controls",
            "_model_module_version": "1.5.0",
            "value": 4542,
            "_view_count": null,
            "_view_module_version": "1.5.0",
            "orientation": "horizontal",
            "min": 0,
            "description_tooltip": null,
            "_model_module": "@jupyter-widgets/controls",
            "layout": "IPY_MODEL_1c6cbb39cca0485485ffae32c1d90198"
          }
        },
        "7502fd67abc1482f823699939af50885": {
          "model_module": "@jupyter-widgets/controls",
          "model_name": "HTMLModel",
          "model_module_version": "1.5.0",
          "state": {
            "_view_name": "HTMLView",
            "style": "IPY_MODEL_e2e9aff5ac55463c84f1009243579117",
            "_dom_classes": [],
            "description": "",
            "_model_name": "HTMLModel",
            "placeholder": "​",
            "_view_module": "@jupyter-widgets/controls",
            "_model_module_version": "1.5.0",
            "value": " 5120/? [00:00&lt;00:00, 156461.69it/s]",
            "_view_count": null,
            "_view_module_version": "1.5.0",
            "description_tooltip": null,
            "_model_module": "@jupyter-widgets/controls",
            "layout": "IPY_MODEL_6eab3a03065c43219409660db5b9e493"
          }
        },
        "91e94925c2c94d5d8bca5febcbd90eb0": {
          "model_module": "@jupyter-widgets/controls",
          "model_name": "DescriptionStyleModel",
          "model_module_version": "1.5.0",
          "state": {
            "_view_name": "StyleView",
            "_model_name": "DescriptionStyleModel",
            "description_width": "",
            "_view_module": "@jupyter-widgets/base",
            "_model_module_version": "1.5.0",
            "_view_count": null,
            "_view_module_version": "1.2.0",
            "_model_module": "@jupyter-widgets/controls"
          }
        },
        "18f4375865f9479ba68271614f96b06f": {
          "model_module": "@jupyter-widgets/base",
          "model_name": "LayoutModel",
          "model_module_version": "1.2.0",
          "state": {
            "_view_name": "LayoutView",
            "grid_template_rows": null,
            "right": null,
            "justify_content": null,
            "_view_module": "@jupyter-widgets/base",
            "overflow": null,
            "_model_module_version": "1.2.0",
            "_view_count": null,
            "flex_flow": null,
            "width": null,
            "min_width": null,
            "border": null,
            "align_items": null,
            "bottom": null,
            "_model_module": "@jupyter-widgets/base",
            "top": null,
            "grid_column": null,
            "overflow_y": null,
            "overflow_x": null,
            "grid_auto_flow": null,
            "grid_area": null,
            "grid_template_columns": null,
            "flex": null,
            "_model_name": "LayoutModel",
            "justify_items": null,
            "grid_row": null,
            "max_height": null,
            "align_content": null,
            "visibility": null,
            "align_self": null,
            "height": null,
            "min_height": null,
            "padding": null,
            "grid_auto_rows": null,
            "grid_gap": null,
            "max_width": null,
            "order": null,
            "_view_module_version": "1.2.0",
            "grid_template_areas": null,
            "object_position": null,
            "object_fit": null,
            "grid_auto_columns": null,
            "margin": null,
            "display": null,
            "left": null
          }
        },
        "90e98b00b63c40929942b80f61c56a2c": {
          "model_module": "@jupyter-widgets/controls",
          "model_name": "ProgressStyleModel",
          "model_module_version": "1.5.0",
          "state": {
            "_view_name": "StyleView",
            "_model_name": "ProgressStyleModel",
            "description_width": "",
            "_view_module": "@jupyter-widgets/base",
            "_model_module_version": "1.5.0",
            "_view_count": null,
            "_view_module_version": "1.2.0",
            "bar_color": null,
            "_model_module": "@jupyter-widgets/controls"
          }
        },
        "1c6cbb39cca0485485ffae32c1d90198": {
          "model_module": "@jupyter-widgets/base",
          "model_name": "LayoutModel",
          "model_module_version": "1.2.0",
          "state": {
            "_view_name": "LayoutView",
            "grid_template_rows": null,
            "right": null,
            "justify_content": null,
            "_view_module": "@jupyter-widgets/base",
            "overflow": null,
            "_model_module_version": "1.2.0",
            "_view_count": null,
            "flex_flow": null,
            "width": null,
            "min_width": null,
            "border": null,
            "align_items": null,
            "bottom": null,
            "_model_module": "@jupyter-widgets/base",
            "top": null,
            "grid_column": null,
            "overflow_y": null,
            "overflow_x": null,
            "grid_auto_flow": null,
            "grid_area": null,
            "grid_template_columns": null,
            "flex": null,
            "_model_name": "LayoutModel",
            "justify_items": null,
            "grid_row": null,
            "max_height": null,
            "align_content": null,
            "visibility": null,
            "align_self": null,
            "height": null,
            "min_height": null,
            "padding": null,
            "grid_auto_rows": null,
            "grid_gap": null,
            "max_width": null,
            "order": null,
            "_view_module_version": "1.2.0",
            "grid_template_areas": null,
            "object_position": null,
            "object_fit": null,
            "grid_auto_columns": null,
            "margin": null,
            "display": null,
            "left": null
          }
        },
        "e2e9aff5ac55463c84f1009243579117": {
          "model_module": "@jupyter-widgets/controls",
          "model_name": "DescriptionStyleModel",
          "model_module_version": "1.5.0",
          "state": {
            "_view_name": "StyleView",
            "_model_name": "DescriptionStyleModel",
            "description_width": "",
            "_view_module": "@jupyter-widgets/base",
            "_model_module_version": "1.5.0",
            "_view_count": null,
            "_view_module_version": "1.2.0",
            "_model_module": "@jupyter-widgets/controls"
          }
        },
        "6eab3a03065c43219409660db5b9e493": {
          "model_module": "@jupyter-widgets/base",
          "model_name": "LayoutModel",
          "model_module_version": "1.2.0",
          "state": {
            "_view_name": "LayoutView",
            "grid_template_rows": null,
            "right": null,
            "justify_content": null,
            "_view_module": "@jupyter-widgets/base",
            "overflow": null,
            "_model_module_version": "1.2.0",
            "_view_count": null,
            "flex_flow": null,
            "width": null,
            "min_width": null,
            "border": null,
            "align_items": null,
            "bottom": null,
            "_model_module": "@jupyter-widgets/base",
            "top": null,
            "grid_column": null,
            "overflow_y": null,
            "overflow_x": null,
            "grid_auto_flow": null,
            "grid_area": null,
            "grid_template_columns": null,
            "flex": null,
            "_model_name": "LayoutModel",
            "justify_items": null,
            "grid_row": null,
            "max_height": null,
            "align_content": null,
            "visibility": null,
            "align_self": null,
            "height": null,
            "min_height": null,
            "padding": null,
            "grid_auto_rows": null,
            "grid_gap": null,
            "max_width": null,
            "order": null,
            "_view_module_version": "1.2.0",
            "grid_template_areas": null,
            "object_position": null,
            "object_fit": null,
            "grid_auto_columns": null,
            "margin": null,
            "display": null,
            "left": null
          }
        }
      }
    }
  },
  "cells": [
    {
      "cell_type": "markdown",
      "metadata": {
        "id": "k3PKsz-1SH1U"
      },
      "source": [
        "# Instructions\n",
        "\n",
        "For this assignment you will use PyTorch instead of EDF to implement and train neural networks. The experiments in this assignment will take a long time to run without a GPU, but you can run the notebook remotely on Google Colab and have access to GPUs for free -- in this case you don't have to worry about installing PyTorch as it is available by default in Google Colab's environment.\n",
        "\n",
        "In case you will be running the experiments in your own machine, you should install PyTorch -- there are multiple tutorials online and it is especially easy if you're using Anaconda. Check https://pytorch.org/tutorials/ for some PyTorch tutorials -- this assignment assumes that you know the basics like defining models with multiple modules and coding up functions to train models with PyTorch optimizers. To \n",
        "\n",
        "To use Google Colab, you should access https://colab.research.google.com/ and upload this notebook to your workspace. To use a GPU, go to Edit -> Notebook settings and select GPU as the accelerator.\n",
        "\n",
        "Unlike previous assignments, in this one you will have to do some writing instead of just coding. Try to keep your answers short and precise, and you are encouraged to write equations if needed (you can do that using markdown cells). You can also use code as part of your answers (like plotting and printing, etc). Blue text indicates questions or things that you should discuss/comment, and there will red \"ANSWER (BEGIN)\" and \"ANSWER (END)\" markdown cells to indicate that you should add cells with your writeup between these two. **Make sure not to redefine variables or functions in your writeup, which can change the behavior of the next cells.**\n",
        "\n",
        "Finally, you might have to do minor changes to the provided code due to differences in python/pytorch versions. You can post on piazza if there's a major, non-trivial change that you had to do (so other students can be aware of it and how to proceed), but for minor changes you should just apply them and keep working on the assignment."
      ]
    },
    {
      "cell_type": "code",
      "metadata": {
        "id": "FD0LkiPhSH1Z"
      },
      "source": [
        "import torch, math, copy\n",
        "import numpy as np\n",
        "from torchvision import datasets, transforms\n",
        "import torch.nn as nn\n",
        "import torch.nn.init as init\n",
        "import torch.nn.functional as F"
      ],
      "execution_count": 2,
      "outputs": []
    },
    {
      "cell_type": "code",
      "metadata": {
        "id": "b_qmffSoSH1o",
        "colab": {
          "base_uri": "https://localhost:8080/",
          "height": 471,
          "referenced_widgets": [
            "98c0c43d3f01479baed65328ae8c3626",
            "d097b0f31b434f2fb717039665d78919",
            "4d8f8b4254a44e5882351852f0b9de6e",
            "cb92775727204e40996927c89c133420",
            "c5802d6fd2e5413d86b1577e1532287e",
            "574add99c2b740b48d14352c3411a8c5",
            "5c8d3fe12de34239bb618cdca04d91ab",
            "7d41f20b4bb64339a34e0f9128575c34",
            "fba86d883e954796b5d60953d0ba0228",
            "4c051e750d704af0bcd7e4255f3cedc6",
            "85f10061e90e46408d4785d122f920fb",
            "77c7ad56cdb040e5b1245b9dc34e1f1d",
            "cb8b4538fceb413886beefee4f44a81b",
            "faad149b32e24c7fa3b5b43b81d8e543",
            "9bef8a6b08214b8ca9da36db63ba13f7",
            "3f5c761ec43b4a91b3064393e6abf3d0",
            "eb0521d881b84b119fae92ce5f44d439",
            "0e88a56126ee4672bf21639f7fd45802",
            "0e43e4e15fc046919edb5e64bfee6cc9",
            "536dc07232244da09cbde347307df498",
            "64ca9ea4b5ba4ace932bf974b73941e9",
            "80b9ec69334a4a988fa1958c707af985",
            "d618b13c781245e796a55b2b86ff07d5",
            "5b3220485d884e3d9ee211513f29f5cc",
            "6065ecec7c0d45499d80b8eec1f402b0",
            "66a796732257428ba776980580c98cee",
            "fba45f64c6464481916d78e3e2f47c6b",
            "efab0595702942b09b18ef217aad9556",
            "863a64da213e4885b7f5f128453e6c22",
            "749925bfd4ce4052918b482da1b7da45",
            "99fb70461a57449f937e704238f13623",
            "db0aab35271e4f46bebb1ee14ae0f6ae",
            "b0e6128e66d54302a1b29cd786ad41c6",
            "c8b579a637cc4028ae23b09e4c74782a",
            "86a56f172efe41d28b9a33c52864f057",
            "8e4a29e783de41ef9caae9715bfcf328",
            "781dff9b13e84e968a678ef87afb95f7",
            "7502fd67abc1482f823699939af50885",
            "91e94925c2c94d5d8bca5febcbd90eb0",
            "18f4375865f9479ba68271614f96b06f",
            "90e98b00b63c40929942b80f61c56a2c",
            "1c6cbb39cca0485485ffae32c1d90198",
            "e2e9aff5ac55463c84f1009243579117",
            "6eab3a03065c43219409660db5b9e493"
          ]
        },
        "outputId": "31a1f2b6-1de2-442b-95e1-1a9213c03078"
      },
      "source": [
        "transform = transforms.Compose([transforms.ToTensor(), transforms.Normalize((0.1307,), (0.3081,))])\n",
        "\n",
        "train_dataset = datasets.MNIST(\"data\", train=True, download=True, transform=transform)\n",
        "train_loader = torch.utils.data.DataLoader(train_dataset, batch_size=256, shuffle=True)\n",
        "\n",
        "test_dataset = datasets.MNIST(\"data\", train=False, download=True, transform=transform)\n",
        "test_loader = torch.utils.data.DataLoader(test_dataset, batch_size=256, shuffle=False)"
      ],
      "execution_count": 3,
      "outputs": [
        {
          "output_type": "stream",
          "name": "stdout",
          "text": [
            "Downloading http://yann.lecun.com/exdb/mnist/train-images-idx3-ubyte.gz\n",
            "Downloading http://yann.lecun.com/exdb/mnist/train-images-idx3-ubyte.gz to data/MNIST/raw/train-images-idx3-ubyte.gz\n"
          ]
        },
        {
          "output_type": "display_data",
          "data": {
            "application/vnd.jupyter.widget-view+json": {
              "model_id": "98c0c43d3f01479baed65328ae8c3626",
              "version_minor": 0,
              "version_major": 2
            },
            "text/plain": [
              "  0%|          | 0/9912422 [00:00<?, ?it/s]"
            ]
          },
          "metadata": {}
        },
        {
          "output_type": "stream",
          "name": "stdout",
          "text": [
            "Extracting data/MNIST/raw/train-images-idx3-ubyte.gz to data/MNIST/raw\n",
            "\n",
            "Downloading http://yann.lecun.com/exdb/mnist/train-labels-idx1-ubyte.gz\n",
            "Downloading http://yann.lecun.com/exdb/mnist/train-labels-idx1-ubyte.gz to data/MNIST/raw/train-labels-idx1-ubyte.gz\n"
          ]
        },
        {
          "output_type": "display_data",
          "data": {
            "application/vnd.jupyter.widget-view+json": {
              "model_id": "77c7ad56cdb040e5b1245b9dc34e1f1d",
              "version_minor": 0,
              "version_major": 2
            },
            "text/plain": [
              "  0%|          | 0/28881 [00:00<?, ?it/s]"
            ]
          },
          "metadata": {}
        },
        {
          "output_type": "stream",
          "name": "stdout",
          "text": [
            "Extracting data/MNIST/raw/train-labels-idx1-ubyte.gz to data/MNIST/raw\n",
            "\n",
            "Downloading http://yann.lecun.com/exdb/mnist/t10k-images-idx3-ubyte.gz\n",
            "Downloading http://yann.lecun.com/exdb/mnist/t10k-images-idx3-ubyte.gz to data/MNIST/raw/t10k-images-idx3-ubyte.gz\n"
          ]
        },
        {
          "output_type": "display_data",
          "data": {
            "application/vnd.jupyter.widget-view+json": {
              "model_id": "d618b13c781245e796a55b2b86ff07d5",
              "version_minor": 0,
              "version_major": 2
            },
            "text/plain": [
              "  0%|          | 0/1648877 [00:00<?, ?it/s]"
            ]
          },
          "metadata": {}
        },
        {
          "output_type": "stream",
          "name": "stdout",
          "text": [
            "Extracting data/MNIST/raw/t10k-images-idx3-ubyte.gz to data/MNIST/raw\n",
            "\n",
            "Downloading http://yann.lecun.com/exdb/mnist/t10k-labels-idx1-ubyte.gz\n",
            "Downloading http://yann.lecun.com/exdb/mnist/t10k-labels-idx1-ubyte.gz to data/MNIST/raw/t10k-labels-idx1-ubyte.gz\n"
          ]
        },
        {
          "output_type": "display_data",
          "data": {
            "application/vnd.jupyter.widget-view+json": {
              "model_id": "c8b579a637cc4028ae23b09e4c74782a",
              "version_minor": 0,
              "version_major": 2
            },
            "text/plain": [
              "  0%|          | 0/4542 [00:00<?, ?it/s]"
            ]
          },
          "metadata": {}
        },
        {
          "output_type": "stream",
          "name": "stdout",
          "text": [
            "Extracting data/MNIST/raw/t10k-labels-idx1-ubyte.gz to data/MNIST/raw\n",
            "\n"
          ]
        },
        {
          "output_type": "stream",
          "name": "stderr",
          "text": [
            "/usr/local/lib/python3.7/dist-packages/torchvision/datasets/mnist.py:498: UserWarning: The given NumPy array is not writeable, and PyTorch does not support non-writeable tensors. This means you can write to the underlying (supposedly non-writeable) NumPy array using the tensor. You may want to copy the array to protect its data or make it writeable before converting it to a tensor. This type of warning will be suppressed for the rest of this program. (Triggered internally at  /pytorch/torch/csrc/utils/tensor_numpy.cpp:180.)\n",
            "  return torch.from_numpy(parsed.astype(m[2], copy=False)).view(*s)\n"
          ]
        }
      ]
    },
    {
      "cell_type": "markdown",
      "metadata": {
        "id": "iIviUo83SH1o"
      },
      "source": [
        "Fill the missing code below. In both train_epoch and test, total_correct should be the total number of correctly classified samples, while total_samples should be the total number of samples that have been iterated over."
      ]
    },
    {
      "cell_type": "code",
      "metadata": {
        "id": "MIHugdT9SH1o"
      },
      "source": [
        "def train(epochs, model, criterion, optimizer, train_loader, test_loader):\n",
        "    for epoch in range(epochs):\n",
        "        train_err = train_epoch(model, criterion, optimizer, train_loader)\n",
        "        test_err = test(model, test_loader)\n",
        "        print('Epoch {:03d}/{:03d}, Train Error {:.2f}% || Test Error {:.2f}%'.format(epoch, epochs, train_err*100, test_err*100))\n",
        "    return train_err, test_err\n",
        "    \n",
        "def train_epoch(model, criterion, optimizer, loader):\n",
        "    total_correct = 0.\n",
        "    total_samples = 0.\n",
        "    \n",
        "    for batch_idx, (data, target) in enumerate(loader):\n",
        "        if torch.cuda.is_available():\n",
        "            data, target = data.cuda(), target.cuda()\n",
        "\n",
        "        # insert code to feed the data to the model and collect its output\n",
        "        output = model(data)\n",
        "\n",
        "        # insert code to compute the loss from output and the true target\n",
        "        loss = criterion(output, target)\n",
        "\n",
        "        # insert code to update total_correct and total_samples\n",
        "        # total_correct: total number of correctly classified samples\n",
        "        # total_samples: total number of samples seen so far\n",
        "        total_correct += torch.eq(torch.max(output, 1).indices, target).long().sum().item()\n",
        "\n",
        "\n",
        "\n",
        "        #output = output.detach().numpy()\n",
        "        #target = target.numpy()\n",
        "        #pred = np.argmax(output, axis=1)\n",
        "        #total_correct += (pred==target).astype(int).sum().item()\n",
        "        total_samples += data.size(0)\n",
        "\n",
        "\n",
        "        # insert code to update the parameters using optimizer\n",
        "        # be careful in this part as an incorrect implementation will affect\n",
        "        # all your experiments and have a significant impact on your grade!\n",
        "        # in particular, note that pytorch does --not-- automatically\n",
        "        # clear the parameter's gradients: check tutorials to see\n",
        "        # how this can be done with a single method call.\n",
        "        ...\n",
        "        optimizer.zero_grad()\n",
        "        loss.backward()\n",
        "        optimizer.step()\n",
        "\n",
        "    return 1 - total_correct/total_samples\n",
        "    \n",
        "def test(model, loader):\n",
        "    total_correct = 0.\n",
        "    total_samples = 0.\n",
        "    model.eval()\n",
        "    \n",
        "    with torch.no_grad():\n",
        "        for batch_idx, (data, target) in enumerate(loader):\n",
        "            if torch.cuda.is_available():\n",
        "                data, target = data.cuda(), target.cuda()\n",
        "\n",
        "            # insert code to feed the data to the model and collect its output\n",
        "            output = model(data)\n",
        "\n",
        "            # insert code to update total_correct and total_samples\n",
        "            # total_correct: total number of correctly classified samples\n",
        "            # total_samples: total number of samples seen so far\n",
        "            \n",
        "            total_correct += torch.eq(torch.max(output, 1).indices, target).long().sum().item()\n",
        "            #output = output.detach().numpy() # make numpy array, remove grad\n",
        "            #target = target.numpy()\n",
        "            #pred = np.argmax(output, axis=1) #find index of highest value\n",
        "            #total_correct += (pred==target).astype(int).sum().item()\n",
        "\n",
        "            total_samples += data.size(0)\n",
        "\n",
        "\n",
        "    return 1 - total_correct/total_samples"
      ],
      "execution_count": 19,
      "outputs": []
    },
    {
      "cell_type": "markdown",
      "metadata": {
        "id": "0cTYkX0GSH1p"
      },
      "source": [
        "### CNN with Tanh activations\n",
        "\n",
        "Next, you should implement a baseline model so you can check how increasing the number of layers can make a network considerably harder to train, given that no additional methods such as residual connections and normalization layers are adopted.\n",
        "\n",
        "Finish the implementation of CNNtanh below, carefully following the specifications:\n",
        "\n",
        "The model should have exactly 'k' many convolutional layers, followed by a linear (fully-connected) layer that actually outputs the logits for each of the 10 MNIST classes.\n",
        "\n",
        "The network should consist of 3 stages, each with k/3 many convolutional layers (you can assume k is divisible by 3). Each conv layer should have a 3x3 kernel, a stride of 1 and a padding of 1 pixel (such that the output of the convolution has the same height and width as its input).\n",
        "\n",
        "It should also have an average pooling layer at the end of each stage, with a 2x2 window (hence halving the spatial dimensions), and the number of channels should double from one stage to the other (starting with 4 in the first stage). Moreover, a Tanh activation should follow each convolution layer.\n",
        "\n",
        "When k=3, for example, the network should be:\n",
        "\n",
        "1. Stage 1 (1x28x28 input, 4x14x14 output):\n",
        "    1. Conv layer with 1 input channel and 4 output channels, 3x3 kernel, stride=padding=1\n",
        "    2. Tanh activation\n",
        "    3. Average Pool with 2x2 kernel and stride 2\n",
        "2. Stage 2 (4x14x14 input, 8x7x7 output):\n",
        "    1. Conv layer with 4 input channels and 8 output channels, 3x3 kernel, stride=padding=1\n",
        "    2. Tanh activation\n",
        "    3. Average Pool with 2x2 kernel and stride 2\n",
        "3. Stage 3 (8x7x7 input, 16x3x3 output):\n",
        "    1. Conv layer with 8 input channels and 16 output channels, 3x3 kernel, stride=padding=1\n",
        "    2. Tanh activation\n",
        "    3. Average Pool with 2x2 kernel and stride 2\n",
        "4. Fully-connected layer with 16 * 3 * 3=144 input dimension and 10 output dimension\n",
        "\n",
        "Note that the model should not have any activation after the fully-connected layer: the PyTorch loss module that will be adopted takes logits as input and not class probabilities.\n",
        "\n",
        "In contrast to the network exemplified above with k=3, when k=6 it should have two conv layers per stage instead of one (each one with a tanh activation following it).\n",
        "\n",
        "Lastly, do not change the code block with a for loop in the end of init: its purpose to randomly initialize the parameters of the conv layers by sampling from a Gaussian with zero mean and 0.05 deviation."
      ]
    },
    {
      "cell_type": "code",
      "metadata": {
        "id": "Xc9pl4t_SH1p"
      },
      "source": [
        "class CNNtanh(nn.Module):\n",
        "    def __init__(self, k):\n",
        "        super(CNNtanh, self).__init__()\n",
        "\n",
        "        # write code here to instantiate layers\n",
        "        # for example, self.conv = nn.Conv2d(1, 4, 3, 1, 1)\n",
        "        # creates a conv layer with 1 input channel, 4 output\n",
        "        # channels, a 3x3 kernel, and stride=padding=1\n",
        "\n",
        "        k, lst, npt, otpt = (k//3)*3, [], 1, 4\n",
        "\n",
        "        for i in range(0,3): #create 3 stages\n",
        "\n",
        "          for _ in range(0, int(k/3)): #create k/3 convultion+tanh layers per stage, add to lst\n",
        "            lst.extend([nn.Conv2d(npt, otpt, 3, 1, 1), nn.Tanh()])\n",
        "            npt = otpt\n",
        "     \n",
        "\n",
        "          #at the end of stage i, double, channels, add pooling later\n",
        "          lst.append(nn.AvgPool2d(2, stride=2))\n",
        "          otpt = otpt *2\n",
        "\n",
        "        self.mdl = nn.Sequential(*lst)\n",
        "\n",
        "        sz = otpt//2 * 3* 3\n",
        "        self.fc=nn.Linear(sz, 10)\n",
        "\n",
        "        for m in self.modules():\n",
        "            if isinstance(m, nn.Conv2d):\n",
        "                m.weight.data.normal_(0, 0.05)\n",
        "                m.bias.data.zero_()\n",
        "        \n",
        "    def forward(self, input):\n",
        "\n",
        "        # write code here to define how the output u is computed\n",
        "        # from the input and the model's layers\n",
        "        # for example, u = self.conv(input) defines u\n",
        "        # to be simply the output of self.conv given 'input'\n",
        "        u = self.mdl(input)\n",
        "        u = u.view(-1, np.prod(u.size()[1:4]))\n",
        "        u = self.fc(u)\n",
        "        return u"
      ],
      "execution_count": 22,
      "outputs": []
    },
    {
      "cell_type": "markdown",
      "metadata": {
        "id": "rx_4tOu4uiFW"
      },
      "source": [
        "The line below just instantiates the PyTorch Cross Entropy loss, whose inputs should be logits: hence the reason that the CNN should not have an activation after last (feedforward) layer."
      ]
    },
    {
      "cell_type": "code",
      "metadata": {
        "id": "P4vxR4FOSH1p"
      },
      "source": [
        "criterion = torch.nn.CrossEntropyLoss()"
      ],
      "execution_count": 7,
      "outputs": []
    },
    {
      "cell_type": "markdown",
      "metadata": {
        "id": "jv54ar5_SH1p"
      },
      "source": [
        "Now, you should train CNNtanh with different values for k: your goal is to find the largest value for k such that the network achieves less than 20% error (either train or test) in 3 epochs. You should also choose an appropriate learning rate (but do not change the optimizer or the momentum settings!).\n",
        "\n",
        "Note that CNNs can easily achieve under 2% test error on MNIST, but we're choosing 20% as a threshold since you will be training each network for only 3 epochs.\n",
        "\n",
        "Remember to use values for k that are divisible by 3. When submitted, your notebook should have the training log of a network with two consecutive values for k (for example, 6 and 9) such that the network is 'trainable' with the smaller one but not 'trainable' with the larger one. It is fine for the training log to include runs with more than two values of k."
      ]
    },
    {
      "cell_type": "code",
      "metadata": {
        "id": "LhQwwlUzSH1p"
      },
      "source": [
        "for i in range(1,100):\n",
        "  k = i*3\n",
        "  lr = .1\n",
        "\n",
        "  print(\"Training Tanh CNN with {} layers\".format(k))\n",
        "  model = CNNtanh(k).cuda()\n",
        "  optimizer = torch.optim.SGD(model.parameters(), lr=lr, momentum=0.9)\n",
        "  train_errs, test_errs = train(3, model, criterion, optimizer, train_loader, test_loader) \n",
        "  if test_errs >.20:  break"
      ],
      "execution_count": null,
      "outputs": []
    },
    {
      "cell_type": "markdown",
      "metadata": {
        "id": "1k8-1IeISH1q"
      },
      "source": [
        "### Better Initialization\n",
        "\n",
        "Next, we will change the initialization of the conv layers and see how it affects the trainability of deep networks. Instead of sampling from a Gaussian with a deviation of 0.05, you should sample from a Gaussian with a deviation $\\sigma = \\sqrt{\\frac{1}{k^2 \\cdot C_{out}}}$ or $\\sigma = \\sqrt{\\frac{1}{k^2 \\cdot C_{in}}}$, where $k$ is the kernel size ($k=3$ for 3x3 convolutions), $C_{in}$ is the number of input channels, and $C_{out}$ the number of output channels.\n",
        "\n",
        "The model below should be exactly like CNNtanh except for the standard deviation of the normal distribution used to initialize the conv layers.\n",
        "\n",
        "The paper 'Understanding the difficulty of training deep feedforward neural networks' by Glorot and Bengio provides some intuition behind such a choice for $\\sigma$."
      ]
    },
    {
      "cell_type": "code",
      "metadata": {
        "id": "mLCUVVAJfm25"
      },
      "source": [
        "class CNNtanh_newinit(nn.Module):\n",
        "    def __init__(self, k):\n",
        "        super(CNNtanh_newinit, self).__init__()\n",
        "\n",
        "        # write code here to instantiate layers\n",
        "        # for example, self.conv = nn.Conv2d(1, 4, 3, 1, 1)\n",
        "        # creates a conv layer with 1 input channel, 4 output\n",
        "        # channels, a 3x3 kernel, and stride=padding=1\n",
        "        k, lst, npt, otpt = (k//3)*3, [], 1, 4\n",
        "\n",
        "        for i in range(0,3): #create 3 stages\n",
        "          for _ in range(0, int(k/3)): #create k/3 convultion+tanh layers per stage, add to lst\n",
        "            lst.extend([nn.Conv2d(npt, otpt, 3, 1, 1), nn.Tanh()])\n",
        "            npt = otpt\n",
        "     \n",
        "\n",
        "          #at the end of stage i, double, channels, add pooling later\n",
        "          lst.append(nn.AvgPool2d(2, stride=2))\n",
        "          otpt = otpt *2\n",
        "\n",
        "        self.mdl = nn.Sequential(*lst)\n",
        "\n",
        "        sz = otpt//2 * 3* 3\n",
        "        self.fc=nn.Linear(sz, 10)\n",
        "\n",
        "        for m in self.modules():\n",
        "            if isinstance(m, nn.Conv2d):\n",
        "                # insert code to compute sigma\n",
        "                sigma = math.sqrt(1/(9*m.out_channels))\n",
        "                m.weight.data.normal_(0, sigma)\n",
        "                m.bias.data.zero_()\n",
        "        \n",
        "    def forward(self, input):\n",
        "\n",
        "        # write code here to define how the output u is computed\n",
        "        # from the input and the model's layers\n",
        "        # for example, u = self.conv(input) defines u\n",
        "        # to be simply the output of self.conv given 'input'\n",
        "        u = self.mdl(input)\n",
        "        u = u.view(-1, np.prod(u.size()[1:4]))\n",
        "        u = self.fc(u)\n",
        "        return u"
      ],
      "execution_count": 28,
      "outputs": []
    },
    {
      "cell_type": "markdown",
      "metadata": {
        "id": "4_1LxL-Y0Q2A"
      },
      "source": [
        "Repeat the procedure of finding the maximum number of layers such that the network is still trainable, this time with CNNtanhinit."
      ]
    },
    {
      "cell_type": "code",
      "metadata": {
        "id": "wEGmH8CASH1q",
        "colab": {
          "base_uri": "https://localhost:8080/"
        },
        "outputId": "5846a7e8-67d5-4e30-d0ab-783f045d9592"
      },
      "source": [
        "for i in range(1,100):\n",
        "  k = i*(i//6 +1)*3\n",
        "  lr = .01\n",
        "\n",
        "  print(\"\\nTraining Tanh CNN + new init with {} layers\".format(k))\n",
        "  model = CNNtanh_newinit(k).cuda()\n",
        "  optimizer = torch.optim.SGD(model.parameters(), lr=lr, momentum=0.9)\n",
        "  train_errs, test_errs = train(3, model, criterion, optimizer, train_loader, test_loader)\n",
        "  if test_errs >.20:  break"
      ],
      "execution_count": null,
      "outputs": [
        {
          "output_type": "stream",
          "name": "stdout",
          "text": [
            "\n",
            "Training Tanh CNN + new init with 3 layers\n",
            "Epoch 000/003, Train Error 43.15% || Test Error 20.49%\n",
            "Epoch 001/003, Train Error 17.93% || Test Error 14.25%\n",
            "Epoch 002/003, Train Error 13.46% || Test Error 11.23%\n",
            "\n",
            "Training Tanh CNN + new init with 6 layers\n",
            "Epoch 000/003, Train Error 44.98% || Test Error 17.88%\n",
            "Epoch 001/003, Train Error 17.60% || Test Error 13.04%\n",
            "Epoch 002/003, Train Error 11.65% || Test Error 10.30%\n",
            "\n",
            "Training Tanh CNN + new init with 9 layers\n"
          ]
        }
      ]
    },
    {
      "cell_type": "markdown",
      "metadata": {
        "id": "VkVRwRkW0rkQ"
      },
      "source": [
        "### CNN with ELU activations\n",
        "\n",
        "In this section you should replace the Tanh activations of the previous network for Exponential Linear Units (ELUs). Complete CNNelu below, which should be exactly like CNNtanhinit except for ELU activations instead of Tanh (ELUs are readily available in PyTorch, check its documentation for more details)."
      ]
    },
    {
      "cell_type": "code",
      "metadata": {
        "id": "xFyLrax5SH1t",
        "colab": {
          "base_uri": "https://localhost:8080/",
          "height": 130
        },
        "outputId": "bd1630e8-9a54-42bb-cee3-f68850d5d067"
      },
      "source": [
        "class CNNelu(nn.Module):\n",
        "    def __init__(self, k):\n",
        "        super(CNNelu, self).__init__()\n",
        "\n",
        "        # write code here to instantiate layers\n",
        "        # for example, self.conv = nn.Conv2d(1, 4, 3, 1, 1)\n",
        "        # creates a conv layer with 1 input channel, 4 output\n",
        "        # channels, a 3x3 kernel, and stride=padding=1\n",
        "\n",
        "        k, lst, npt, otpt = (k//3)*3, [], 1, 4\n",
        "\n",
        "        for i in range(0,3): #create 3 stages\n",
        "          for _ in range(0, int(k/3)): #create k/3 convultion+tanh layers per stage, add to lst\n",
        "            lst.extend([nn.Conv2d(npt, otpt, 3, 1, 1), nn.ELU()])\n",
        "            npt = otpt\n",
        "     \n",
        "\n",
        "          #at the end of stage i, double, channels, add pooling later\n",
        "          lst.append(nn.AvgPool2d(2, stride=2))\n",
        "          otpt = otpt *2\n",
        "\n",
        "        self.mdl = nn.Sequential(*lst)\n",
        "\n",
        "        sz = otpt//2 * 3* 3\n",
        "        self.fc=nn.Linear(sz, 10)\n",
        "\n",
        "        for m in self.modules():\n",
        "            if isinstance(m, nn.Conv2d):\n",
        "                # insert code to compute sigma\n",
        "                sigma = math.sqrt(1/(9*m.out_channels))\n",
        "                m.weight.data.normal_(0, sigma)\n",
        "                m.bias.data.zero_()\n",
        "        \n",
        "    def forward(self, input):\n",
        "\n",
        "        # write code here to define how the output u is computed\n",
        "        # from the input and the model's layers\n",
        "        # for example, u = self.conv(input) defines u\n",
        "        # to be simply the output of self.conv given 'input'\n",
        "        u = self.mdl(input)\n",
        "        u = u.view(-1, np.prod(u.size()[1:4]))\n",
        "        u = self.fc(u)\n",
        "        return u"
      ],
      "execution_count": 27,
      "outputs": [
        {
          "output_type": "error",
          "ename": "SyntaxError",
          "evalue": "ignored",
          "traceback": [
            "\u001b[0;36m  File \u001b[0;32m\"<ipython-input-27-862d3598cc7a>\"\u001b[0;36m, line \u001b[0;32m13\u001b[0m\n\u001b[0;31m    sigma =\u001b[0m\n\u001b[0m            ^\u001b[0m\n\u001b[0;31mSyntaxError\u001b[0m\u001b[0;31m:\u001b[0m invalid syntax\n"
          ]
        }
      ]
    },
    {
      "cell_type": "markdown",
      "metadata": {
        "id": "f2toBBTt1ZU5"
      },
      "source": [
        "Repeat the procedure of finding the maximum number of layers such that the network is still trainable, this time with CNNelu."
      ]
    },
    {
      "cell_type": "code",
      "metadata": {
        "id": "AmvJJuH73jgj"
      },
      "source": [
        "  for i in range(1,100):\n",
        "    k = i*(i//6 +1)*3\n",
        "    lr = .01 \n",
        "\n",
        "    print(\"\\nTraining ELU CNN, with {} layers\".format(k))\n",
        "    model = CNNelu(k).cuda()\n",
        "    optimizer = torch.optim.SGD(model.parameters(), lr=lr, momentum=0.9)\n",
        "    train_errs, test_errs = train(3, model, criterion, optimizer, train_loader, test_loader)\n",
        "    if test_errs >.20:  break"
      ],
      "execution_count": null,
      "outputs": []
    },
    {
      "cell_type": "markdown",
      "metadata": {
        "id": "EjhF18tS1hVw"
      },
      "source": [
        "### CNN with Batch Normalization\n",
        "\n",
        "Next, you will check how batch normalization can make deep networks easier to train. Implement the network below, which should be exactly like CNNelu except for additional BatchNorm2d layers after each convolution (before the ELU activation).\n",
        "\n",
        "Note that BatchNorm2d modules require the number of channels as argument -- see the PyTorch documentation for more details."
      ]
    },
    {
      "cell_type": "code",
      "metadata": {
        "id": "AHqz0bqbDKEo"
      },
      "source": [
        "class CNNeluBN(nn.Module):\n",
        "    def __init__(self, k):\n",
        "        super(CNNeluBN, self).__init__()\n",
        "\n",
        "        # write code here to instantiate layers\n",
        "        # for example, self.conv = nn.Conv2d(1, 4, 3, 1, 1)\n",
        "        # creates a conv layer with 1 input channel, 4 output\n",
        "        # channels, a 3x3 kernel, and stride=padding=1\n",
        "        k, lst, npt, otpt = (k//3)*3, [], 1, 4\n",
        "\n",
        "        for i in range(0,3): #create 3 stages\n",
        "          for _ in range(0, int(k/3)): #create k/3 convultion+tanh layers per stage, add to lst\n",
        "            lst.extend([nn.Conv2d(npt, otpt, 3, 1, 1), nn.BatchNorm2d(otpt), nn.ELU()]) #be cautious with untested code\n",
        "            npt = otpt\n",
        "     \n",
        "\n",
        "          #at the end of stage i, double, channels, add pooling later\n",
        "          lst.append(nn.AvgPool2d(2, stride=2))\n",
        "          otpt = otpt *2\n",
        "\n",
        "        self.mdl = nn.Sequential(*lst)\n",
        "\n",
        "        sz = otpt//2 * 3* 3\n",
        "        self.fc=nn.Linear(sz, 10)\n",
        "\n",
        "        for m in self.modules():\n",
        "            if isinstance(m, nn.Conv2d):\n",
        "                # insert code to compute sigma\n",
        "                sigma = math.sqrt(1/(9*m.out_channels))\n",
        "                m.weight.data.normal_(0, sigma)\n",
        "                m.bias.data.zero_()\n",
        "        \n",
        "    def forward(self, input):\n",
        "        \n",
        "        # write code here to define how the output u is computed\n",
        "        # from the input and the model's layers\n",
        "        # for example, u = self.conv(input) defines u\n",
        "        # to be simply the output of self.conv given 'input'\n",
        "        u = self.mdl(input)\n",
        "        u = u.view(-1, np.prod(u.size()[1:4]))\n",
        "        u = self.fc(u)\n",
        "        return u"
      ],
      "execution_count": null,
      "outputs": []
    },
    {
      "cell_type": "markdown",
      "metadata": {
        "id": "_WqDqDmG2eAo"
      },
      "source": [
        "Repeat the procedure of finding the maximum number of layers such that the network is still trainable, this time with CNNeluBN."
      ]
    },
    {
      "cell_type": "code",
      "metadata": {
        "id": "lTDiRg9kERsH"
      },
      "source": [
        "for i in range(1,100):\n",
        "  k = i*3\n",
        "  lr = .01  \n",
        "\n",
        "  print(\"\\nTraining ELU CNN + BN with {} layers\".format(k))\n",
        "  model = CNNeluBN(k).cuda()\n",
        "  optimizer = torch.optim.SGD(model.parameters(), lr=lr, momentum=0.9)\n",
        "  train_errs, test_errs = train(3, model, criterion, optimizer, train_loader, test_loader)\n",
        "  if test_errs >.2: break"
      ],
      "execution_count": null,
      "outputs": []
    },
    {
      "cell_type": "markdown",
      "metadata": {
        "id": "0LOZfZtl2gcg"
      },
      "source": [
        "### Residual Networks\n",
        "\n",
        "Finally, you experiment adding residual connections to a CNN.\n",
        "\n",
        "To implement the model below, you should add a 'skip connection' to 'Conv->BatchNorm->ELU' blocks whenever the shape of the block's input and output are the same: this will be the case for every such block except for the first ones in each stage, as they double the number of channels.\n",
        "\n",
        "More specifically, you should change $u = ELU(BatchNorm(Conv(x)))$ to $u = ELU(BatchNorm(Conv(x))) + x$, where $x$ and $u$ denote the block's input and output, respectively.\n",
        "\n",
        "You should take your CNNeluBN implementation and add skip-connections as described above.\n",
        "\n",
        "Note that there are key differences between the resulting model and the actual ResNet proposed by He et al. in 'Deep Residual Learning for Image Recognition', for example the use of ELU activations instead of ReLU and the exact position of skip-connections."
      ]
    },
    {
      "cell_type": "code",
      "metadata": {
        "id": "wA6ItpH-GpK_"
      },
      "source": [
        "class ResNet(nn.Module):\n",
        "    def __init__(self, k):\n",
        "        super(ResNet, self).__init__()\n",
        "\n",
        "        # write code here to instantiate layers\n",
        "        # for example, self.conv = nn.Conv2d(1, 4, 3, 1, 1)\n",
        "        # creates a conv layer with 1 input channel, 4 output\n",
        "        # channels, a 3x3 kernel, and stride=padding=1\n",
        "        k, lst, npt, otpt = (k//3)*3, [], 1, 4\n",
        "\n",
        "        for i in range(0,3): #create 3 stages\n",
        "          for _ in range(0, int(k/3)): #create k/3 convultion+tanh layers per stage, add to lst\n",
        "            lst.extend([nn.Conv2d(npt, otpt, 3, 1, 1), nn.BatchNorm2d(otpt), nn.ELU()]) #be cautious with untested code\n",
        "            npt = otpt\n",
        "     \n",
        "\n",
        "          #at the end of stage i, double, channels, add pooling later\n",
        "          lst.append(nn.AvgPool2d(2, stride=2))\n",
        "          otpt = otpt *2\n",
        "\n",
        "        self.mdl = nn.Sequential(*lst)\n",
        "\n",
        "        sz = otpt//2 * 3* 3\n",
        "        self.fc=nn.Linear(sz, 10)\n",
        "\n",
        "        for m in self.modules():\n",
        "            if isinstance(m, nn.Conv2d):\n",
        "                # insert code to compute sigma\n",
        "                sigma = math.sqrt(1/(9*m.out_channels))\n",
        "                m.weight.data.normal_(0, sigma)\n",
        "                m.bias.data.zero_()\n",
        "        \n",
        "        \n",
        "    def forward(self, input):\n",
        "        \n",
        "        # write code here to define how the output u is computed\n",
        "        # from the input and the model's layers\n",
        "        # for example, u = self.conv(input) defines u\n",
        "        # to be simply the output of self.conv given 'input'\n",
        "\n",
        "        return u"
      ],
      "execution_count": null,
      "outputs": []
    },
    {
      "cell_type": "markdown",
      "metadata": {
        "id": "aWHYn08j5kqb"
      },
      "source": [
        "Repeat the procedure of finding the maximum number of layers such that the network is still trainable, this time with the 'ResNet' model."
      ]
    },
    {
      "cell_type": "code",
      "metadata": {
        "id": "-UJLiaGzJv1j"
      },
      "source": [
        "k = \n",
        "lr = \n",
        "\n",
        "print(\"\\nTraining ResNet with {} layers\".format(k))\n",
        "model = ResNet(k).cuda()\n",
        "optimizer = torch.optim.SGD(model.parameters(), lr=lr, momentum=0.9)\n",
        "train_errs, test_errs = train(3, model, criterion, optimizer, train_loader, test_loader)"
      ],
      "execution_count": null,
      "outputs": []
    },
    {
      "cell_type": "markdown",
      "metadata": {
        "id": "NdSKAR4U51pQ"
      },
      "source": [
        "**<font color='blue'>\n",
        "    Summarize your results and observations regarding the experiments above. What was the maximum number of layers for each of the five models such that training remained successful? Briefly discuss why you think each modification helped/harmed the trainability of deep models.\n",
        "</font>**\n",
        "\n",
        "**<font color='red'> --------------------------------------------------------------------- ANSWER (BEGIN) ---------------------------------------------------------------------\n",
        "</font>**"
      ]
    },
    {
      "cell_type": "markdown",
      "metadata": {
        "id": "_UHHtGGk6YSd"
      },
      "source": [
        "**<font color='red'> ---------------------------------------------------------------------- ANSWER (END) ----------------------------------------------------------------------\n",
        "</font>**"
      ]
    },
    {
      "cell_type": "markdown",
      "metadata": {
        "id": "qHhjz1IT7rB4"
      },
      "source": [
        "### Interactions: Batch Norm and Initialization\n",
        "\n",
        "Intuitively, batch norm should make the model more robust to changes in the magnitude of the network's weights: informally, scaling up all the elements of a conv layer's filters by a factor of 10 would not affect the network's output as long as there is a batch norm layer following such convolution, as the normalization would undo the scaling.\n",
        "\n",
        "To check how this intuition translates to practical settings, you should change the original 'CNNtanh' model so that it incorporates batch norm layers (like you have done when modifying 'CNNelu' into 'CNNeluBN').\n",
        "\n",
        "The model below should adopt the naive initialization procedure of sampling from a Gaussian with a deviation of 0.05, not the more sophisticated one that you implemented previously"
      ]
    },
    {
      "cell_type": "code",
      "metadata": {
        "id": "8405idig8QGw"
      },
      "source": [
        "class CNNtanhBN_oldinit(nn.Module):\n",
        "    def __init__(self, k):\n",
        "        super(CNNtanhBN_oldinit, self).__init__()\n",
        "\n",
        "        # write code here to instantiate layers\n",
        "        # for example, self.conv = nn.Conv2d(1, 4, 3, 1, 1)\n",
        "        # creates a conv layer with 1 input channel, 4 output\n",
        "        # channels, a 3x3 kernel, and stride=padding=1\n",
        "\n",
        "        for m in self.modules():\n",
        "            if isinstance(m, nn.Conv2d):\n",
        "                m.weight.data.normal_(0, 0.05)\n",
        "                m.bias.data.zero_()\n",
        "        \n",
        "    def forward(self, input):\n",
        "\n",
        "        # write code here to define how the output u is computed\n",
        "        # from the input and the model's layers\n",
        "        # for example, u = self.conv(input) defines u\n",
        "        # to be simply the output of self.conv given 'input'\n",
        "\n",
        "        return u"
      ],
      "execution_count": null,
      "outputs": []
    },
    {
      "cell_type": "markdown",
      "metadata": {
        "id": "bvZsUFsl-0-n"
      },
      "source": [
        "Repeat the procedure of finding the maximum number of layers such that the network is still trainable, this time with CNNeluBN_oldinit."
      ]
    },
    {
      "cell_type": "code",
      "metadata": {
        "id": "sYeWhIOpAnAp"
      },
      "source": [
        "k = \n",
        "lr = \n",
        "\n",
        "print(\"\\nTraining Tanh CNN + BN + naive init with {} layers\".format(k))\n",
        "model = CNNtanhBN_oldinit(k).cuda()\n",
        "optimizer = torch.optim.SGD(model.parameters(), lr=lr, momentum=0.9)\n",
        "train_errs, test_errs = train(3, model, criterion, optimizer, train_loader, test_loader)"
      ],
      "execution_count": null,
      "outputs": []
    },
    {
      "cell_type": "markdown",
      "metadata": {
        "id": "n6m_C2V--8EI"
      },
      "source": [
        "**<font color='blue'>\n",
        "    Compare CNNtanh (model with naive initialization and no batch norm), CNNtanh_newinit (model with better initialization and no batch norm), and CNNtanhBN_oldinit (model with naive initialization and batch norm), in terms of how deep each could be while being trainable, and discuss your thoughts one how batch norm interacts with the way parameters are initialized.\n",
        "</font>**\n",
        "\n",
        "**<font color='red'> --------------------------------------------------------------------- ANSWER (BEGIN) ---------------------------------------------------------------------\n",
        "</font>**"
      ]
    },
    {
      "cell_type": "markdown",
      "metadata": {
        "id": "l428K7CT-9mp"
      },
      "source": [
        "**<font color='red'> ---------------------------------------------------------------------- ANSWER (END) ----------------------------------------------------------------------\n",
        "</font>**"
      ]
    },
    {
      "cell_type": "markdown",
      "metadata": {
        "id": "GkrAaQgIBnQt"
      },
      "source": [
        "### Interactions: Batch Norm and Residual Connections\n",
        "\n",
        "Lastly, implement and train a CNN with residual connections but without batch normalization layers -- the goal here is to check how residuals interact with normalization.\n",
        "\n",
        "The model below should be exactly like ResNet, except that it should not have batch norm layers."
      ]
    },
    {
      "cell_type": "code",
      "metadata": {
        "id": "eK05o-N4B3kG"
      },
      "source": [
        "class ResNet_noBN(nn.Module):\n",
        "    def __init__(self, k):\n",
        "        super(ResNet_noBN, self).__init__()\n",
        "\n",
        "        # write code here to instantiate layers\n",
        "        # for example, self.conv = nn.Conv2d(1, 4, 3, 1, 1)\n",
        "        # creates a conv layer with 1 input channel, 4 output\n",
        "        # channels, a 3x3 kernel, and stride=padding=1\n",
        "\n",
        "        for m in self.modules():\n",
        "            if isinstance(m, nn.Conv2d):\n",
        "                # insert code to compute sigma\n",
        "                sigma = \n",
        "                m.weight.data.normal_(0, sigma)\n",
        "                m.bias.data.zero_()\n",
        "        \n",
        "    def forward(self, input):\n",
        "\n",
        "        # write code here to define how the output u is computed\n",
        "        # from the input and the model's layers\n",
        "        # for example, u = self.conv(input) defines u\n",
        "        # to be simply the output of self.conv given 'input'\n",
        "\n",
        "        return u"
      ],
      "execution_count": null,
      "outputs": []
    },
    {
      "cell_type": "markdown",
      "metadata": {
        "id": "PQLzjaz0CJFk"
      },
      "source": [
        "Repeat the procedure of finding the maximum number of layers such that the network is still trainable, this time with ResNet_noBN."
      ]
    },
    {
      "cell_type": "code",
      "metadata": {
        "id": "8_edbTtyCODr"
      },
      "source": [
        "k = \n",
        "lr = \n",
        "\n",
        "print(\"\\nTraining ResNet w/o BN with {} layers\".format(k))\n",
        "model = ResNet_noBN(k).cuda()\n",
        "optimizer = torch.optim.SGD(model.parameters(), lr=lr, momentum=0.9)\n",
        "train_errs, test_errs = train(3, model, criterion, optimizer, train_loader, test_loader)"
      ],
      "execution_count": null,
      "outputs": []
    },
    {
      "cell_type": "markdown",
      "metadata": {
        "id": "EV_vayTUCMJc"
      },
      "source": [
        "**<font color='blue'>\n",
        "    Compare ResNet and ResNet_noBN in terms of how deep each could be while being trainable, and discuss your thoughts one how batch norm interacts with residual connections.\n",
        "</font>**\n",
        "\n",
        "**<font color='red'> --------------------------------------------------------------------- ANSWER (BEGIN) ---------------------------------------------------------------------\n",
        "</font>**"
      ]
    },
    {
      "cell_type": "markdown",
      "metadata": {
        "id": "zdqTHhOJCPVu"
      },
      "source": [
        "**<font color='red'> ---------------------------------------------------------------------- ANSWER (END) ----------------------------------------------------------------------\n",
        "</font>**"
      ]
    },
    {
      "cell_type": "markdown",
      "metadata": {
        "id": "mjZF-f5PCgZ9"
      },
      "source": [
        "### (Optional) Multiple Loss Heads\n",
        "\n",
        "In this optional section, your goal is to incorporate the idea of having multiple loss heads throughout the network, distributed across its depth.\n",
        "\n",
        "For the CNNelu_multihead model below, you should take the CNNelu model that you implemented previously and add two additional classification heads, connected to the outputs of stages 1 and 2.\n",
        "\n",
        "More specifically, the outputs of stages 1 and 2, with shapes 4x14x14 and 8x7x7, should be connected to new fully-connected layers that map them to a 10-dimensional vector (logits for the 10 MNIST classes). The network should output three logit vectors (the original one at the end of the network plus the two new ones) instead of just one, and the loss should be computed as the average of the cross entropies between the true target and each of the three predictions.\n",
        "\n",
        "Note that you will likely have to change the implementation of train_epoch() and test() to accomodate the fact that this model will output three logit vectors instead of one."
      ]
    },
    {
      "cell_type": "code",
      "metadata": {
        "id": "Kjq7whPVDR--"
      },
      "source": [
        "class CNNelu_multihead(nn.Module):\n",
        "    def __init__(self, k):\n",
        "        super(CNNelu_multihead, self).__init__()\n",
        "\n",
        "        # write code here to instantiate layers\n",
        "        # for example, self.conv = nn.Conv2d(1, 4, 3, 1, 1)\n",
        "        # creates a conv layer with 1 input channel, 4 output\n",
        "        # channels, a 3x3 kernel, and stride=padding=1\n",
        "\n",
        "        for m in self.modules():\n",
        "            if isinstance(m, nn.Conv2d):\n",
        "                # insert code to compute sigma\n",
        "                sigma = \n",
        "                m.weight.data.normal_(0, sigma)\n",
        "                m.bias.data.zero_()\n",
        "        \n",
        "    def forward(self, input):\n",
        "        # write code here to define how the output u is computed\n",
        "        # from the input and the model's layers\n",
        "        # for example, u = self.conv(input) defines u\n",
        "        # to be simply the output of self.conv given 'input'\n",
        "\n",
        "        return u1, u2, u3"
      ],
      "execution_count": null,
      "outputs": []
    },
    {
      "cell_type": "markdown",
      "metadata": {
        "id": "SmTspBA6Fnfr"
      },
      "source": [
        "Repeat the procedure of finding the maximum number of layers such that the network is still trainable, this time with CNNelu_multihead."
      ]
    },
    {
      "cell_type": "code",
      "metadata": {
        "id": "ovdjbI8jJttc"
      },
      "source": [
        "k = \n",
        "lr = \n",
        "\n",
        "print(\"\\nTraining ELU CNN + multiloss with {} layers\".format(k))\n",
        "model = CNNelu_multihead(k).cuda()\n",
        "optimizer = torch.optim.SGD(model.parameters(), lr=lr, momentum=0.9)\n",
        "train_errs, test_errs = train(3, model, criterion, optimizer, train_loader, test_loader)"
      ],
      "execution_count": null,
      "outputs": []
    },
    {
      "cell_type": "markdown",
      "metadata": {
        "id": "v1x_FYzEFsoj"
      },
      "source": [
        "**<font color='blue'>\n",
        "    Did the adoption of multiple loss heads help train deeper models? How did it compare to the adoption of batch normalization, in terms of how deeper each of the two approaches enabled the network to be while staying trainable?\n",
        "</font>**\n",
        "\n",
        "**<font color='red'> --------------------------------------------------------------------- ANSWER (BEGIN) ---------------------------------------------------------------------\n",
        "</font>**"
      ]
    },
    {
      "cell_type": "markdown",
      "metadata": {
        "id": "djfPeR3xFt9U"
      },
      "source": [
        "**<font color='red'> ---------------------------------------------------------------------- ANSWER (END) ----------------------------------------------------------------------\n",
        "</font>**"
      ]
    }
  ]
}